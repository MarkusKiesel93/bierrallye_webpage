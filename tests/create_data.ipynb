{
 "metadata": {
  "language_info": {
   "codemirror_mode": {
    "name": "ipython",
    "version": 3
   },
   "file_extension": ".py",
   "mimetype": "text/x-python",
   "name": "python",
   "nbconvert_exporter": "python",
   "pygments_lexer": "ipython3",
   "version": "3.7.3"
  },
  "orig_nbformat": 2,
  "kernelspec": {
   "name": "python3",
   "display_name": "Python 3.7.3 64-bit"
  },
  "interpreter": {
   "hash": "31f2aee4e71d21fbe5cf8b01ff0e069b9275f58929596ceb00d14d90e3e16cd6"
  }
 },
 "nbformat": 4,
 "nbformat_minor": 2,
 "cells": [
  {
   "cell_type": "code",
   "execution_count": 1,
   "source": [
    "import pandas as pd\n",
    "import numpy as np\n",
    "import random"
   ],
   "outputs": [],
   "metadata": {}
  },
  {
   "cell_type": "code",
   "execution_count": 2,
   "source": [
    "df = pd.read_csv('./MOCK_DATA.csv')"
   ],
   "outputs": [],
   "metadata": {}
  },
  {
   "cell_type": "code",
   "execution_count": 3,
   "source": [
    "def create_field_with_blank(num, choices):\n",
    "    vals = []\n",
    "    for n in range(num):\n",
    "        choice = random.choice(drinks)\n",
    "        if random.random() < 0.3:\n",
    "            choice = None\n",
    "        vals.append(choice)\n",
    "    return vals"
   ],
   "outputs": [],
   "metadata": {}
  },
  {
   "cell_type": "code",
   "execution_count": 4,
   "source": [
    "drinks = [\n",
    "    'Bier',\n",
    "    'Wein + Mineral',\n",
    "    'Wein + Almdudler',\n",
    "    'Wein + Cola',\n",
    "    'Wein + Frucade',\n",
    "]\n",
    "\n",
    "def create_drink_pref(num, drinks):\n",
    "    vals = []\n",
    "    for n in range(num):\n",
    "        choice = random.choice(drinks)\n",
    "        vals.append(choice)\n",
    "    return vals"
   ],
   "outputs": [],
   "metadata": {}
  },
  {
   "cell_type": "code",
   "execution_count": 5,
   "source": [
    "start_blocks = ['A', 'B', 'C', 'D', 'E', 'F']\n",
    "\n",
    "def create_start_block(num, start_blocks):\n",
    "    vals = []\n",
    "    for n in range(num):\n",
    "        choice = random.choice(start_blocks)\n",
    "        vals.append(choice)\n",
    "    return vals"
   ],
   "outputs": [],
   "metadata": {}
  },
  {
   "cell_type": "code",
   "execution_count": 6,
   "source": [
    "df['drink_pref_player_1'] = create_drink_pref(100, drinks)\n",
    "df['drink_pref_player_2'] = create_drink_pref(100, drinks)\n",
    "df['start_block'] = create_start_block(100, start_blocks)"
   ],
   "outputs": [],
   "metadata": {}
  },
  {
   "cell_type": "code",
   "execution_count": 7,
   "source": [
    "def phone(row):\n",
    "    row['contact'] = row['email']\n",
    "    row['phone_number'] = np.nan\n",
    "    return row\n",
    "df = df.apply(lambda row: phone(row), axis=1)\n",
    "df['channel'] = np.where(df['email'].isna(), 'sms', 'email')\n",
    "df = df.drop(columns=['email', 'phone_number'])"
   ],
   "outputs": [],
   "metadata": {}
  },
  {
   "cell_type": "code",
   "execution_count": 7,
   "source": [
    "def email_or_phone(row):\n",
    "    rand = random.random()\n",
    "    if rand > 0.5:\n",
    "        row['contact'] = row['email']\n",
    "        row['phone_number'] = np.nan\n",
    "    else:\n",
    "        row['contact'] = row['phone_number']\n",
    "        row['email'] = np.nan\n",
    "    return row\n",
    "df = df.apply(lambda row: email_or_phone(row), axis=1)\n",
    "df['channel'] = np.where(df['email'].isna(), 'sms', 'email')\n",
    "df = df.drop(columns=['email', 'phone_number'])"
   ],
   "outputs": [],
   "metadata": {
    "tags": []
   }
  },
  {
   "cell_type": "code",
   "execution_count": 8,
   "source": [
    "df.head()"
   ],
   "outputs": [
    {
     "output_type": "execute_result",
     "data": {
      "text/plain": [
       "  first_name_player_1 last_name_player_1 first_name_player_2  \\\n",
       "0               Howey        Dobrowolski               Jonas   \n",
       "1                 Asa             Morbey           Margarita   \n",
       "2              Alleyn              Malek              Krissy   \n",
       "3            Samantha            Bidnall             Camilla   \n",
       "4               Blake             Lenham              Rudolf   \n",
       "\n",
       "  last_name_player_2 drink_pref_player_1 drink_pref_player_2 start_block  \\\n",
       "0             Atheis                Bier      Wein + Mineral           F   \n",
       "1             Daborn                Bier                Bier           B   \n",
       "2             Jarman      Wein + Mineral                Bier           B   \n",
       "3            Gration                Bier                Bier           E   \n",
       "4            Chapiro    Wein + Almdudler         Wein + Cola           F   \n",
       "\n",
       "                    contact channel  \n",
       "0          jatheis0@nps.gov   email  \n",
       "1          mdaborn1@icq.com   email  \n",
       "2        kjarman2@alexa.com   email  \n",
       "3  cgration3@shareasale.com   email  \n",
       "4   rchapiro4@aboutads.info   email  "
      ],
      "text/html": [
       "<div>\n",
       "<style scoped>\n",
       "    .dataframe tbody tr th:only-of-type {\n",
       "        vertical-align: middle;\n",
       "    }\n",
       "\n",
       "    .dataframe tbody tr th {\n",
       "        vertical-align: top;\n",
       "    }\n",
       "\n",
       "    .dataframe thead th {\n",
       "        text-align: right;\n",
       "    }\n",
       "</style>\n",
       "<table border=\"1\" class=\"dataframe\">\n",
       "  <thead>\n",
       "    <tr style=\"text-align: right;\">\n",
       "      <th></th>\n",
       "      <th>first_name_player_1</th>\n",
       "      <th>last_name_player_1</th>\n",
       "      <th>first_name_player_2</th>\n",
       "      <th>last_name_player_2</th>\n",
       "      <th>drink_pref_player_1</th>\n",
       "      <th>drink_pref_player_2</th>\n",
       "      <th>start_block</th>\n",
       "      <th>contact</th>\n",
       "      <th>channel</th>\n",
       "    </tr>\n",
       "  </thead>\n",
       "  <tbody>\n",
       "    <tr>\n",
       "      <th>0</th>\n",
       "      <td>Howey</td>\n",
       "      <td>Dobrowolski</td>\n",
       "      <td>Jonas</td>\n",
       "      <td>Atheis</td>\n",
       "      <td>Bier</td>\n",
       "      <td>Wein + Mineral</td>\n",
       "      <td>F</td>\n",
       "      <td>jatheis0@nps.gov</td>\n",
       "      <td>email</td>\n",
       "    </tr>\n",
       "    <tr>\n",
       "      <th>1</th>\n",
       "      <td>Asa</td>\n",
       "      <td>Morbey</td>\n",
       "      <td>Margarita</td>\n",
       "      <td>Daborn</td>\n",
       "      <td>Bier</td>\n",
       "      <td>Bier</td>\n",
       "      <td>B</td>\n",
       "      <td>mdaborn1@icq.com</td>\n",
       "      <td>email</td>\n",
       "    </tr>\n",
       "    <tr>\n",
       "      <th>2</th>\n",
       "      <td>Alleyn</td>\n",
       "      <td>Malek</td>\n",
       "      <td>Krissy</td>\n",
       "      <td>Jarman</td>\n",
       "      <td>Wein + Mineral</td>\n",
       "      <td>Bier</td>\n",
       "      <td>B</td>\n",
       "      <td>kjarman2@alexa.com</td>\n",
       "      <td>email</td>\n",
       "    </tr>\n",
       "    <tr>\n",
       "      <th>3</th>\n",
       "      <td>Samantha</td>\n",
       "      <td>Bidnall</td>\n",
       "      <td>Camilla</td>\n",
       "      <td>Gration</td>\n",
       "      <td>Bier</td>\n",
       "      <td>Bier</td>\n",
       "      <td>E</td>\n",
       "      <td>cgration3@shareasale.com</td>\n",
       "      <td>email</td>\n",
       "    </tr>\n",
       "    <tr>\n",
       "      <th>4</th>\n",
       "      <td>Blake</td>\n",
       "      <td>Lenham</td>\n",
       "      <td>Rudolf</td>\n",
       "      <td>Chapiro</td>\n",
       "      <td>Wein + Almdudler</td>\n",
       "      <td>Wein + Cola</td>\n",
       "      <td>F</td>\n",
       "      <td>rchapiro4@aboutads.info</td>\n",
       "      <td>email</td>\n",
       "    </tr>\n",
       "  </tbody>\n",
       "</table>\n",
       "</div>"
      ]
     },
     "metadata": {},
     "execution_count": 8
    }
   ],
   "metadata": {}
  },
  {
   "cell_type": "code",
   "execution_count": 9,
   "source": [
    "df.to_csv('./input.csv', index=False)"
   ],
   "outputs": [],
   "metadata": {}
  },
  {
   "cell_type": "code",
   "execution_count": null,
   "source": [],
   "outputs": [],
   "metadata": {}
  }
 ]
}